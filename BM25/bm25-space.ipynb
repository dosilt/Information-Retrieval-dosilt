{
 "cells": [
  {
   "cell_type": "code",
   "execution_count": 1,
   "id": "ed8d3269",
   "metadata": {},
   "outputs": [],
   "source": [
    "import json\n",
    "import time"
   ]
  },
  {
   "cell_type": "code",
   "execution_count": 2,
   "id": "1c061c53",
   "metadata": {},
   "outputs": [],
   "source": [
    "context_corpus = json.load(open('dataset/paragraph_context.json', 'r', encoding='utf8')) \n",
    "question_corpus = json.load(open('dataset/question_context.json', 'r', encoding='utf8'))\n",
    "train_labels_json = json.load(open('dataset/train_labels.json', 'r', encoding='utf8'))\n",
    "test_labels_json = json.load(open('dataset/test_labels.json', 'r', encoding='utf8'))"
   ]
  },
  {
   "cell_type": "code",
   "execution_count": 3,
   "id": "d4131fa0",
   "metadata": {},
   "outputs": [],
   "source": [
    "from rank_bm25 import BM25Okapi"
   ]
  },
  {
   "cell_type": "code",
   "execution_count": 4,
   "id": "e4e61bf2",
   "metadata": {},
   "outputs": [],
   "source": [
    "test_document = [context_corpus[t] for t in test_labels_json]\n",
    "test_question = [question_corpus[t] for key in test_labels_json.keys() for t in test_labels_json[key]]"
   ]
  },
  {
   "cell_type": "code",
   "execution_count": 5,
   "id": "f1b29550",
   "metadata": {},
   "outputs": [],
   "source": [
    "from konlpy.tag import Okt, Komoran"
   ]
  },
  {
   "cell_type": "code",
   "execution_count": 6,
   "id": "da2a3837",
   "metadata": {},
   "outputs": [
    {
     "name": "stdout",
     "output_type": "stream",
     "text": [
      "2.208296298980713\n"
     ]
    }
   ],
   "source": [
    "st = time.time()\n",
    "bm25 = BM25Okapi([doc.split() for doc in test_document])\n",
    "print(time.time() - st)"
   ]
  },
  {
   "cell_type": "code",
   "execution_count": 8,
   "id": "18f8e071",
   "metadata": {},
   "outputs": [],
   "source": [
    "start_time = time.time()\n",
    "answer = []\n",
    "for q in [question.split() for question in test_question]:\n",
    "    answer.append(bm25.get_top_n(q, test_document, n=150))\n",
    "\n",
    "end_time = time.time()"
   ]
  },
  {
   "cell_type": "code",
   "execution_count": 9,
   "id": "ba79d91d",
   "metadata": {},
   "outputs": [
    {
     "data": {
      "text/plain": [
       "3692.6343388557434"
      ]
     },
     "execution_count": 9,
     "metadata": {},
     "output_type": "execute_result"
    }
   ],
   "source": [
    "end_time - start_time"
   ]
  },
  {
   "cell_type": "code",
   "execution_count": 11,
   "id": "ec29b833",
   "metadata": {},
   "outputs": [],
   "source": [
    "test_question_ids = [t for key in test_labels_json.keys() for t in test_labels_json[key]]"
   ]
  },
  {
   "cell_type": "code",
   "execution_count": 13,
   "id": "3ddca9a3",
   "metadata": {},
   "outputs": [],
   "source": [
    "test_document_ids = {context_corpus[t]:t for t in test_labels_json}"
   ]
  },
  {
   "cell_type": "code",
   "execution_count": 18,
   "id": "90d24549",
   "metadata": {},
   "outputs": [],
   "source": [
    "bm25_space_result = {}"
   ]
  },
  {
   "cell_type": "code",
   "execution_count": 19,
   "id": "f024e123",
   "metadata": {},
   "outputs": [],
   "source": [
    "for cnt, ans in enumerate(answer):\n",
    "    bm25_space_result[test_question_ids[cnt]] = []\n",
    "    for a in ans:\n",
    "        bm25_space_result[test_question_ids[cnt]].append(test_document_ids[a])"
   ]
  },
  {
   "cell_type": "code",
   "execution_count": 24,
   "id": "e762eb9a",
   "metadata": {},
   "outputs": [],
   "source": [
    "test_label_clean = {}\n",
    "for test_label in test_labels_json.keys():\n",
    "    for test in test_labels_json[test_label]:\n",
    "        test_label_clean[test] = test_label"
   ]
  },
  {
   "cell_type": "code",
   "execution_count": 32,
   "id": "b3108eb4",
   "metadata": {},
   "outputs": [
    {
     "name": "stdout",
     "output_type": "stream",
     "text": [
      "0.7815034032065364\n"
     ]
    }
   ],
   "source": [
    "mrr = 0\n",
    "\n",
    "for clean in test_label_clean.keys():\n",
    "    try:\n",
    "        mrr += 1 / (bm25_space_result[clean].index(test_label_clean[clean]) + 1)\n",
    "    except:\n",
    "        pass\n",
    "    \n",
    "print(mrr / len(test_label_clean))"
   ]
  },
  {
   "cell_type": "code",
   "execution_count": 43,
   "id": "9f4a31a9",
   "metadata": {},
   "outputs": [],
   "source": [
    "with open('bm25_space_result.json', 'w') as f:\n",
    "    json.dump(bm25_space_result, f)"
   ]
  },
  {
   "cell_type": "code",
   "execution_count": 34,
   "id": "3573e8fb",
   "metadata": {},
   "outputs": [
    {
     "data": {
      "text/plain": [
       "24711"
      ]
     },
     "execution_count": 34,
     "metadata": {},
     "output_type": "execute_result"
    }
   ],
   "source": [
    "len(test_labels_json)"
   ]
  },
  {
   "cell_type": "code",
   "execution_count": 35,
   "id": "66960768",
   "metadata": {},
   "outputs": [
    {
     "data": {
      "text/plain": [
       "46691"
      ]
     },
     "execution_count": 35,
     "metadata": {},
     "output_type": "execute_result"
    }
   ],
   "source": [
    "len(test_question)"
   ]
  },
  {
   "cell_type": "code",
   "execution_count": 38,
   "id": "64f99b3e",
   "metadata": {},
   "outputs": [
    {
     "name": "stdout",
     "output_type": "stream",
     "text": [
      "['QUES_TNC71lb33r', 'QUES_TP1ywlo2lO']\n"
     ]
    }
   ],
   "source": [
    "for t in train_labels_json.keys():\n",
    "    print(train_labels_json[t])\n",
    "    break"
   ]
  },
  {
   "cell_type": "code",
   "execution_count": 39,
   "id": "3394aeac",
   "metadata": {},
   "outputs": [],
   "source": [
    "train_question_ids = [t for key in train_labels_json.keys() for t in train_labels_json[key]]"
   ]
  },
  {
   "cell_type": "code",
   "execution_count": 42,
   "id": "42004c78",
   "metadata": {},
   "outputs": [
    {
     "data": {
      "text/plain": [
       "186430"
      ]
     },
     "execution_count": 42,
     "metadata": {},
     "output_type": "execute_result"
    }
   ],
   "source": [
    "len(train_question_ids)"
   ]
  },
  {
   "cell_type": "code",
   "execution_count": null,
   "id": "4d0fdf04",
   "metadata": {},
   "outputs": [],
   "source": []
  }
 ],
 "metadata": {
  "kernelspec": {
   "display_name": "Python 3 (ipykernel)",
   "language": "python",
   "name": "python3"
  },
  "language_info": {
   "codemirror_mode": {
    "name": "ipython",
    "version": 3
   },
   "file_extension": ".py",
   "mimetype": "text/x-python",
   "name": "python",
   "nbconvert_exporter": "python",
   "pygments_lexer": "ipython3",
   "version": "3.8.0"
  },
  "toc": {
   "base_numbering": 1,
   "nav_menu": {},
   "number_sections": true,
   "sideBar": true,
   "skip_h1_title": false,
   "title_cell": "Table of Contents",
   "title_sidebar": "Contents",
   "toc_cell": false,
   "toc_position": {},
   "toc_section_display": true,
   "toc_window_display": false
  }
 },
 "nbformat": 4,
 "nbformat_minor": 5
}
