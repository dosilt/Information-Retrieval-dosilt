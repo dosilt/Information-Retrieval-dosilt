{
 "cells": [
  {
   "cell_type": "code",
   "execution_count": 1,
   "id": "fdd93182",
   "metadata": {},
   "outputs": [],
   "source": [
    "import json\n",
    "import time"
   ]
  },
  {
   "cell_type": "code",
   "execution_count": 2,
   "id": "58ea2ed1",
   "metadata": {},
   "outputs": [],
   "source": [
    "context_corpus = json.load(open('dataset/paragraph_context.json', 'r', encoding='utf8')) \n",
    "question_corpus = json.load(open('dataset/question_context.json', 'r', encoding='utf8'))\n",
    "train_labels_json = json.load(open('dataset/train_labels.json', 'r', encoding='utf8'))\n",
    "test_labels_json = json.load(open('dataset/test_labels.json', 'r', encoding='utf8'))"
   ]
  },
  {
   "cell_type": "code",
   "execution_count": 3,
   "id": "e64c11e9",
   "metadata": {},
   "outputs": [],
   "source": [
    "from rank_bm25 import BM25Okapi"
   ]
  },
  {
   "cell_type": "code",
   "execution_count": 4,
   "id": "739f4194",
   "metadata": {},
   "outputs": [],
   "source": [
    "test_document = [context_corpus[t] for t in test_labels_json]\n",
    "test_question = [question_corpus[t] for key in test_labels_json.keys() for t in test_labels_json[key]]"
   ]
  },
  {
   "cell_type": "code",
   "execution_count": 5,
   "id": "a35fccae",
   "metadata": {},
   "outputs": [],
   "source": [
    "from konlpy.tag import Okt, Komoran"
   ]
  },
  {
   "cell_type": "code",
   "execution_count": 6,
   "id": "a365b385",
   "metadata": {},
   "outputs": [],
   "source": [
    "okt = Okt()"
   ]
  },
  {
   "cell_type": "code",
   "execution_count": 7,
   "id": "0e8a22ca",
   "metadata": {},
   "outputs": [
    {
     "data": {
      "text/plain": [
       "['존경',\n",
       " '하는',\n",
       " '국민',\n",
       " '여러분',\n",
       " ',',\n",
       " '농',\n",
       " '어민',\n",
       " '여러분',\n",
       " '!',\n",
       " '‘',\n",
       " '농정틀',\n",
       " '전환',\n",
       " '을',\n",
       " '위',\n",
       " '한',\n",
       " '2019',\n",
       " '타운',\n",
       " '홀',\n",
       " '미팅',\n",
       " '보고',\n",
       " '대회',\n",
       " '’',\n",
       " '를',\n",
       " '전통',\n",
       " '과',\n",
       " '한식',\n",
       " '의',\n",
       " '도시',\n",
       " '전주',\n",
       " '에서',\n",
       " '열게',\n",
       " '되어',\n",
       " '매우',\n",
       " '뜻',\n",
       " '깊게',\n",
       " '생각',\n",
       " '합니다',\n",
       " '.',\n",
       " '특별히',\n",
       " '농어',\n",
       " '업',\n",
       " '인재',\n",
       " '양성',\n",
       " '의',\n",
       " '산실',\n",
       " '한국',\n",
       " '농수산',\n",
       " '대학',\n",
       " '의',\n",
       " '젊은',\n",
       " '후계',\n",
       " '자',\n",
       " '들',\n",
       " '과',\n",
       " '함께해',\n",
       " '더욱',\n",
       " '기쁩니다',\n",
       " '.',\n",
       " '우리',\n",
       " '농어',\n",
       " '업',\n",
       " '의',\n",
       " '새로운',\n",
       " '미래',\n",
       " '가',\n",
       " '청년',\n",
       " '들',\n",
       " '에게',\n",
       " '희망이',\n",
       " '되',\n",
       " '기를',\n",
       " '기대합니다',\n",
       " '.',\n",
       " '우리',\n",
       " '는',\n",
       " '모두',\n",
       " '농',\n",
       " '어민',\n",
       " '의',\n",
       " '자손',\n",
       " '입니다',\n",
       " '.',\n",
       " '우리',\n",
       " '는',\n",
       " '선사',\n",
       " '시대',\n",
       " '부터',\n",
       " '벼농사',\n",
       " '와',\n",
       " '어업',\n",
       " '을',\n",
       " '함께',\n",
       " '하는',\n",
       " '농경',\n",
       " '사회',\n",
       " '를',\n",
       " '이루었고',\n",
       " ',',\n",
       " '농어',\n",
       " '업',\n",
       " '을',\n",
       " '통해',\n",
       " '자연',\n",
       " '의',\n",
       " '섭리',\n",
       " '를',\n",
       " '배웠습니다',\n",
       " '.',\n",
       " '우리',\n",
       " '가',\n",
       " '어른',\n",
       " '을',\n",
       " '공경',\n",
       " '하고',\n",
       " '공동체',\n",
       " '를',\n",
       " '중요하게',\n",
       " '여기는',\n",
       " '우수한',\n",
       " '민족',\n",
       " '이',\n",
       " '된',\n",
       " '것',\n",
       " '도',\n",
       " '농어',\n",
       " '업',\n",
       " '으로',\n",
       " '형성',\n",
       " '된',\n",
       " '협동',\n",
       " '정신',\n",
       " '이',\n",
       " '있었기',\n",
       " '때문',\n",
       " '입니다',\n",
       " '.',\n",
       " '우리',\n",
       " '민족',\n",
       " '의',\n",
       " '정신과',\n",
       " '뿌리',\n",
       " '도',\n",
       " '농어촌',\n",
       " '에',\n",
       " '있습니다',\n",
       " '.',\n",
       " '전라북도',\n",
       " '에서',\n",
       " '시작',\n",
       " '한',\n",
       " '동학',\n",
       " '농민',\n",
       " '혁명',\n",
       " '은',\n",
       " '농민',\n",
       " '스스로',\n",
       " '일어나',\n",
       " '나라',\n",
       " '를',\n",
       " '개혁',\n",
       " '하고자',\n",
       " '했고',\n",
       " ',',\n",
       " '그',\n",
       " '정신',\n",
       " '이',\n",
       " '의병',\n",
       " '활동',\n",
       " '과',\n",
       " '3',\n",
       " '·',\n",
       " '1',\n",
       " '독립운동',\n",
       " '으로',\n",
       " '이어져',\n",
       " '대한민국',\n",
       " '임시정부',\n",
       " '수립',\n",
       " '과',\n",
       " '민주공화국',\n",
       " '수립',\n",
       " '의',\n",
       " '근간',\n",
       " '이',\n",
       " '되었습니다',\n",
       " '.',\n",
       " '많은',\n",
       " '애국지사',\n",
       " '가',\n",
       " '나라',\n",
       " '의',\n",
       " '주인',\n",
       " '이',\n",
       " '농민',\n",
       " '임',\n",
       " '을',\n",
       " '천명',\n",
       " '하며',\n",
       " '농촌',\n",
       " '계몽운동',\n",
       " '으로',\n",
       " '근',\n",
       " '대',\n",
       " '문',\n",
       " '명과',\n",
       " '독립',\n",
       " '의',\n",
       " '힘',\n",
       " '을',\n",
       " '키웠습니다',\n",
       " '.',\n",
       " '대한민국',\n",
       " '발전',\n",
       " '의',\n",
       " '근간',\n",
       " '도',\n",
       " '농어촌',\n",
       " '이었습니다',\n",
       " '.',\n",
       " '오늘',\n",
       " '우리',\n",
       " '가',\n",
       " '이',\n",
       " '룩',\n",
       " '한',\n",
       " '눈부신',\n",
       " '산업',\n",
       " '발전',\n",
       " '도',\n",
       " '농어촌',\n",
       " '의',\n",
       " '뒷받침',\n",
       " '이',\n",
       " '있었기에',\n",
       " '가능했습니다',\n",
       " '.',\n",
       " '하지만',\n",
       " '그',\n",
       " '과정',\n",
       " '에서',\n",
       " '농어촌',\n",
       " '은',\n",
       " '피',\n",
       " '폐해',\n",
       " '지고',\n",
       " '도시',\n",
       " '와',\n",
       " '격차',\n",
       " '가',\n",
       " '커져',\n",
       " '온',\n",
       " '것',\n",
       " '이',\n",
       " '사실',\n",
       " '입니다',\n",
       " '.']"
      ]
     },
     "execution_count": 7,
     "metadata": {},
     "output_type": "execute_result"
    }
   ],
   "source": [
    "okt.morphs(test_document[0])"
   ]
  },
  {
   "cell_type": "code",
   "execution_count": 8,
   "id": "89b918ee",
   "metadata": {},
   "outputs": [
    {
     "name": "stdout",
     "output_type": "stream",
     "text": [
      "935.4163348674774\n"
     ]
    }
   ],
   "source": [
    "st = time.time()\n",
    "bm25 = BM25Okapi([okt.morphs(doc) for doc in test_document])\n",
    "print(time.time() - st)"
   ]
  },
  {
   "cell_type": "code",
   "execution_count": 9,
   "id": "7626218d",
   "metadata": {},
   "outputs": [],
   "source": [
    "start_time = time.time()\n",
    "answer = []\n",
    "for q in [okt.morphs(question) for question in test_question]:\n",
    "    answer.append(bm25.get_top_n(q, test_document, n=150))\n",
    "\n",
    "end_time = time.time()"
   ]
  },
  {
   "cell_type": "code",
   "execution_count": 12,
   "id": "b34e4753",
   "metadata": {},
   "outputs": [
    {
     "data": {
      "text/plain": [
       "8345.675825357437"
      ]
     },
     "execution_count": 12,
     "metadata": {},
     "output_type": "execute_result"
    }
   ],
   "source": [
    "end_time - start_time"
   ]
  },
  {
   "cell_type": "code",
   "execution_count": 13,
   "id": "4db68b04",
   "metadata": {},
   "outputs": [],
   "source": [
    "test_question_ids = [t for key in test_labels_json.keys() for t in test_labels_json[key]]"
   ]
  },
  {
   "cell_type": "code",
   "execution_count": 14,
   "id": "1e2344e4",
   "metadata": {},
   "outputs": [],
   "source": [
    "test_document_ids = {context_corpus[t]:t for t in test_labels_json}"
   ]
  },
  {
   "cell_type": "code",
   "execution_count": 15,
   "id": "d510138f",
   "metadata": {},
   "outputs": [],
   "source": [
    "bm25_space_result = {}"
   ]
  },
  {
   "cell_type": "code",
   "execution_count": 16,
   "id": "9cb3888b",
   "metadata": {},
   "outputs": [],
   "source": [
    "for cnt, ans in enumerate(answer):\n",
    "    bm25_space_result[test_question_ids[cnt]] = []\n",
    "    for a in ans:\n",
    "        bm25_space_result[test_question_ids[cnt]].append(test_document_ids[a])"
   ]
  },
  {
   "cell_type": "code",
   "execution_count": 17,
   "id": "f8e21f52",
   "metadata": {},
   "outputs": [],
   "source": [
    "test_label_clean = {}\n",
    "for test_label in test_labels_json.keys():\n",
    "    for test in test_labels_json[test_label]:\n",
    "        test_label_clean[test] = test_label"
   ]
  },
  {
   "cell_type": "code",
   "execution_count": 18,
   "id": "7085e5b9",
   "metadata": {},
   "outputs": [
    {
     "name": "stdout",
     "output_type": "stream",
     "text": [
      "0.8734029146886991\n"
     ]
    }
   ],
   "source": [
    "mrr = 0\n",
    "\n",
    "for clean in test_label_clean.keys():\n",
    "    try:\n",
    "        mrr += 1 / (bm25_space_result[clean].index(test_label_clean[clean]) + 1)\n",
    "    except:\n",
    "        pass\n",
    "    \n",
    "print(mrr / len(test_label_clean))"
   ]
  },
  {
   "cell_type": "code",
   "execution_count": 20,
   "id": "e41df257",
   "metadata": {},
   "outputs": [],
   "source": [
    "with open('bm25_okt_result.json', 'w') as f:\n",
    "    json.dump(bm25_space_result, f)"
   ]
  },
  {
   "cell_type": "code",
   "execution_count": null,
   "id": "521b1346",
   "metadata": {},
   "outputs": [],
   "source": []
  }
 ],
 "metadata": {
  "kernelspec": {
   "display_name": "Python 3 (ipykernel)",
   "language": "python",
   "name": "python3"
  },
  "language_info": {
   "codemirror_mode": {
    "name": "ipython",
    "version": 3
   },
   "file_extension": ".py",
   "mimetype": "text/x-python",
   "name": "python",
   "nbconvert_exporter": "python",
   "pygments_lexer": "ipython3",
   "version": "3.8.0"
  },
  "toc": {
   "base_numbering": 1,
   "nav_menu": {},
   "number_sections": true,
   "sideBar": true,
   "skip_h1_title": false,
   "title_cell": "Table of Contents",
   "title_sidebar": "Contents",
   "toc_cell": false,
   "toc_position": {},
   "toc_section_display": true,
   "toc_window_display": false
  }
 },
 "nbformat": 4,
 "nbformat_minor": 5
}
