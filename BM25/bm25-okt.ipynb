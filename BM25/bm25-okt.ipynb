{
 "cells": [
  {
   "cell_type": "code",
   "execution_count": 1,
   "id": "fdd93182",
   "metadata": {},
   "outputs": [],
   "source": [
    "import json\n",
    "import time"
   ]
  },
  {
   "cell_type": "code",
   "execution_count": 2,
   "id": "58ea2ed1",
   "metadata": {},
   "outputs": [],
   "source": [
    "context_corpus = json.load(open('dataset/paragraph_context.json', 'r', encoding='utf8')) \n",
    "question_corpus = json.load(open('dataset/question_context.json', 'r', encoding='utf8'))\n",
    "train_labels_json = json.load(open('dataset/train_labels.json', 'r', encoding='utf8'))\n",
    "test_labels_json = json.load(open('dataset/test_labels.json', 'r', encoding='utf8'))"
   ]
  },
  {
   "cell_type": "code",
   "execution_count": 3,
   "id": "e64c11e9",
   "metadata": {},
   "outputs": [],
   "source": [
    "from rank_bm25 import BM25Okapi"
   ]
  },
  {
   "cell_type": "code",
   "execution_count": 4,
   "id": "739f4194",
   "metadata": {},
   "outputs": [],
   "source": [
    "test_document = [context_corpus[t] for t in test_labels_json]\n",
    "test_question = [question_corpus[t] for key in test_labels_json.keys() for t in test_labels_json[key]]"
   ]
  },
  {
   "cell_type": "code",
   "execution_count": 5,
   "id": "a35fccae",
   "metadata": {},
   "outputs": [],
   "source": [
    "from konlpy.tag import Okt, Komoran"
   ]
  },
  {
   "cell_type": "code",
   "execution_count": 6,
   "id": "a365b385",
   "metadata": {},
   "outputs": [],
   "source": [
    "okt = Okt()"
   ]
  },
  {
   "cell_type": "code",
   "execution_count": 8,
   "id": "89b918ee",
   "metadata": {},
   "outputs": [
    {
     "name": "stdout",
     "output_type": "stream",
     "text": [
      "935.4163348674774\n"
     ]
    }
   ],
   "source": [
    "st = time.time()\n",
    "bm25 = BM25Okapi([okt.morphs(doc) for doc in test_document])\n",
    "print(time.time() - st)"
   ]
  },
  {
   "cell_type": "code",
   "execution_count": 9,
   "id": "7626218d",
   "metadata": {},
   "outputs": [],
   "source": [
    "start_time = time.time()\n",
    "answer = []\n",
    "for q in [okt.morphs(question) for question in test_question]:\n",
    "    answer.append(bm25.get_top_n(q, test_document, n=150))\n",
    "\n",
    "end_time = time.time()"
   ]
  },
  {
   "cell_type": "code",
   "execution_count": 12,
   "id": "b34e4753",
   "metadata": {},
   "outputs": [
    {
     "data": {
      "text/plain": [
       "8345.675825357437"
      ]
     },
     "execution_count": 12,
     "metadata": {},
     "output_type": "execute_result"
    }
   ],
   "source": [
    "end_time - start_time"
   ]
  },
  {
   "cell_type": "code",
   "execution_count": 13,
   "id": "4db68b04",
   "metadata": {},
   "outputs": [],
   "source": [
    "test_question_ids = [t for key in test_labels_json.keys() for t in test_labels_json[key]]"
   ]
  },
  {
   "cell_type": "code",
   "execution_count": 14,
   "id": "1e2344e4",
   "metadata": {},
   "outputs": [],
   "source": [
    "test_document_ids = {context_corpus[t]:t for t in test_labels_json}"
   ]
  },
  {
   "cell_type": "code",
   "execution_count": 15,
   "id": "d510138f",
   "metadata": {},
   "outputs": [],
   "source": [
    "bm25_space_result = {}"
   ]
  },
  {
   "cell_type": "code",
   "execution_count": 16,
   "id": "9cb3888b",
   "metadata": {},
   "outputs": [],
   "source": [
    "for cnt, ans in enumerate(answer):\n",
    "    bm25_space_result[test_question_ids[cnt]] = []\n",
    "    for a in ans:\n",
    "        bm25_space_result[test_question_ids[cnt]].append(test_document_ids[a])"
   ]
  },
  {
   "cell_type": "code",
   "execution_count": 17,
   "id": "f8e21f52",
   "metadata": {},
   "outputs": [],
   "source": [
    "test_label_clean = {}\n",
    "for test_label in test_labels_json.keys():\n",
    "    for test in test_labels_json[test_label]:\n",
    "        test_label_clean[test] = test_label"
   ]
  },
  {
   "cell_type": "code",
   "execution_count": 18,
   "id": "7085e5b9",
   "metadata": {},
   "outputs": [
    {
     "name": "stdout",
     "output_type": "stream",
     "text": [
      "0.8734029146886991\n"
     ]
    }
   ],
   "source": [
    "mrr = 0\n",
    "\n",
    "for clean in test_label_clean.keys():\n",
    "    try:\n",
    "        mrr += 1 / (bm25_space_result[clean].index(test_label_clean[clean]) + 1)\n",
    "    except:\n",
    "        pass\n",
    "    \n",
    "print(mrr / len(test_label_clean))"
   ]
  },
  {
   "cell_type": "code",
   "execution_count": 20,
   "id": "e41df257",
   "metadata": {},
   "outputs": [],
   "source": [
    "with open('bm25_okt_result.json', 'w') as f:\n",
    "    json.dump(bm25_space_result, f)"
   ]
  },
  {
   "cell_type": "code",
   "execution_count": null,
   "id": "521b1346",
   "metadata": {},
   "outputs": [],
   "source": []
  }
 ],
 "metadata": {
  "kernelspec": {
   "display_name": "Python 3 (ipykernel)",
   "language": "python",
   "name": "python3"
  },
  "language_info": {
   "codemirror_mode": {
    "name": "ipython",
    "version": 3
   },
   "file_extension": ".py",
   "mimetype": "text/x-python",
   "name": "python",
   "nbconvert_exporter": "python",
   "pygments_lexer": "ipython3",
   "version": "3.8.13"
  },
  "toc": {
   "base_numbering": 1,
   "nav_menu": {},
   "number_sections": true,
   "sideBar": true,
   "skip_h1_title": false,
   "title_cell": "Table of Contents",
   "title_sidebar": "Contents",
   "toc_cell": false,
   "toc_position": {},
   "toc_section_display": true,
   "toc_window_display": false
  }
 },
 "nbformat": 4,
 "nbformat_minor": 5
}
