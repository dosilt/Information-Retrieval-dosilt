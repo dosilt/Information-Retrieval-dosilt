{
 "cells": [
  {
   "cell_type": "code",
   "execution_count": 3,
   "id": "2fd87c93",
   "metadata": {},
   "outputs": [],
   "source": [
    "import json\n",
    "import torch\n",
    "from torch.utils.data import Dataset, DataLoader\n",
    "from collections import defaultdict"
   ]
  },
  {
   "cell_type": "code",
   "execution_count": 18,
   "id": "9d4ec615",
   "metadata": {},
   "outputs": [],
   "source": [
    "model = torch.load('base_model_3.pt', map_location='cuda:0').eval()"
   ]
  },
  {
   "cell_type": "code",
   "execution_count": 19,
   "id": "d65bcc66",
   "metadata": {},
   "outputs": [],
   "source": [
    "class InferDataset(Dataset):\n",
    "    def __init__(self, candidates, texts, questions):\n",
    "        self.candidates = candidates\n",
    "        self.texts = texts\n",
    "        self.questions = questions\n",
    "\n",
    "    def __len__(self):\n",
    "        return len(self.candidates)\n",
    "\n",
    "    def __getitem__(self, item):\n",
    "        question, context, label = self.candidates[item]\n",
    "        return {'question': self.questions[question], 'context': self.texts[context], 'labels': torch.FloatTensor([label]),\n",
    "                'question_id': question, 'context_id': context}"
   ]
  },
  {
   "cell_type": "code",
   "execution_count": 31,
   "id": "28cd4534",
   "metadata": {},
   "outputs": [],
   "source": [
    "def data_load(args):\n",
    "    with open(args.data_path + '/paragraph_context.json', 'r', encoding='utf-8') as f:\n",
    "        texts = json.load(f)\n",
    "\n",
    "    with open(args.data_path + '/question_context.json', 'r', encoding='utf-8') as f:\n",
    "        questions = json.load(f)\n",
    "\n",
    "    with open(args.data_path + '/test_labels.json', 'r', encoding='utf-8') as f:\n",
    "        labels_dummy = json.load(f)\n",
    "        labels = defaultdict(str)\n",
    "\n",
    "        for i in labels_dummy.keys():\n",
    "            for qu in labels_dummy[i]:\n",
    "                labels[qu] = i\n",
    "\n",
    "    with open(args.data_path + '/bm25_space_result.json', 'r', encoding='utf-8') as f:\n",
    "        bm25_result = json.load(f)\n",
    "\n",
    "    candidates = []\n",
    "    for i in bm25_result.keys():\n",
    "        check = False\n",
    "        for j in bm25_result[i]:\n",
    "            if labels[i] == j:\n",
    "                label = 1\n",
    "            else:\n",
    "                label = 0\n",
    "            candidates.append([i, j, label])\n",
    "\n",
    "    infer_dataset = InferDataset(candidates, texts, questions)\n",
    "    infer_loader = DataLoader(infer_dataset, batch_size=args.batch_size, shuffle=False)\n",
    "    return infer_loader"
   ]
  },
  {
   "cell_type": "code",
   "execution_count": 35,
   "id": "3b4bcfb8",
   "metadata": {},
   "outputs": [],
   "source": [
    "import easydict\n",
    "from tqdm import tqdm\n",
    "args = easydict.EasyDict({\n",
    "    'data_path': 'dataset',\n",
    "    'batch_size': 32\n",
    "})"
   ]
  },
  {
   "cell_type": "code",
   "execution_count": 33,
   "id": "556d946e",
   "metadata": {},
   "outputs": [],
   "source": [
    "infer_loader = data_load(args)"
   ]
  },
  {
   "cell_type": "code",
   "execution_count": 48,
   "id": "eab71389",
   "metadata": {},
   "outputs": [
    {
     "name": "stderr",
     "output_type": "stream",
     "text": [
      "100%|████████████████████████████████████████████████████████████████████████| 218865/218865 [6:55:09<00:00,  8.79it/s]\n"
     ]
    }
   ],
   "source": [
    "reranking_answer = defaultdict(list)\n",
    "for feature in tqdm(infer_loader):\n",
    "    question_id = feature['question_id']\n",
    "    context_id = feature['context_id']\n",
    "    value = list(model(feature).cpu().detach().numpy())\n",
    "    for q, c, v in zip(question_id, context_id, value):\n",
    "        reranking_answer[q].append([c, v])"
   ]
  },
  {
   "cell_type": "code",
   "execution_count": 4,
   "id": "bc22aa80",
   "metadata": {},
   "outputs": [],
   "source": [
    "context_corpus = json.load(open('dataset/paragraph_context.json', 'r', encoding='utf8')) \n",
    "question_corpus = json.load(open('dataset/question_context.json', 'r', encoding='utf8'))\n",
    "train_labels_json = json.load(open('dataset/train_labels.json', 'r', encoding='utf8'))\n",
    "test_labels_json = json.load(open('dataset/test_labels.json', 'r', encoding='utf8'))"
   ]
  },
  {
   "cell_type": "code",
   "execution_count": 53,
   "id": "f4c616a9",
   "metadata": {},
   "outputs": [],
   "source": [
    "test_label_clean = {}\n",
    "for test_label in test_labels_json.keys():\n",
    "    for test in test_labels_json[test_label]:\n",
    "        test_label_clean[test] = test_label"
   ]
  },
  {
   "cell_type": "code",
   "execution_count": 55,
   "id": "7ca4c920",
   "metadata": {},
   "outputs": [
    {
     "name": "stdout",
     "output_type": "stream",
     "text": [
      "0.9199192613086765\n"
     ]
    }
   ],
   "source": [
    "mrr = 0\n",
    "\n",
    "for clean in test_label_clean.keys():\n",
    "    try:\n",
    "        mrr += 1 / [key for key, value in sorted(reranking_answer[clean], key=lambda x:x[1])].index(test_label_clean[clean]) + 1\n",
    "    except:\n",
    "        pass\n",
    "    \n",
    "print(mrr / len(test_label_clean))"
   ]
  }
 ],
 "metadata": {
  "kernelspec": {
   "display_name": "Python 3 (ipykernel)",
   "language": "python",
   "name": "python3"
  },
  "language_info": {
   "codemirror_mode": {
    "name": "ipython",
    "version": 3
   },
   "file_extension": ".py",
   "mimetype": "text/x-python",
   "name": "python",
   "nbconvert_exporter": "python",
   "pygments_lexer": "ipython3",
   "version": "3.8.13"
  },
  "toc": {
   "base_numbering": 1,
   "nav_menu": {},
   "number_sections": true,
   "sideBar": true,
   "skip_h1_title": false,
   "title_cell": "Table of Contents",
   "title_sidebar": "Contents",
   "toc_cell": false,
   "toc_position": {},
   "toc_section_display": true,
   "toc_window_display": false
  }
 },
 "nbformat": 4,
 "nbformat_minor": 5
}
