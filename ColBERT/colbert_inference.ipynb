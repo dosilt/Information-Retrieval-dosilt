{
 "cells": [
  {
   "cell_type": "code",
   "execution_count": 1,
   "id": "2e139911",
   "metadata": {},
   "outputs": [],
   "source": [
    "import json\n",
    "import time\n",
    "import numpy as np"
   ]
  },
  {
   "cell_type": "code",
   "execution_count": 3,
   "id": "d16a7e4a",
   "metadata": {},
   "outputs": [],
   "source": [
    "context_corpus = json.load(open('dataset/paragraph_context.json', 'r', encoding='utf8')) \n",
    "question_corpus = json.load(open('dataset/question_context.json', 'r', encoding='utf8'))\n",
    "train_labels_json = json.load(open('dataset/train_labels.json', 'r', encoding='utf8'))\n",
    "test_labels_json = json.load(open('dataset/test_labels.json', 'r', encoding='utf8'))"
   ]
  },
  {
   "cell_type": "code",
   "execution_count": 4,
   "id": "ecae0607",
   "metadata": {},
   "outputs": [],
   "source": [
    "from torch import nn\n",
    "import torch\n",
    "from transformers import ElectraTokenizer, ElectraModel, ElectraConfig, AdamW, get_linear_schedule_with_warmup\n",
    "from torch.utils.data import DataLoader, Dataset"
   ]
  },
  {
   "cell_type": "code",
   "execution_count": 5,
   "id": "e429af2c",
   "metadata": {},
   "outputs": [],
   "source": [
    "# monologg/kobert, \"monologg/koelectra-base-v3-discriminator\""
   ]
  },
  {
   "cell_type": "code",
   "execution_count": 6,
   "id": "7b2dea88",
   "metadata": {},
   "outputs": [],
   "source": [
    "contexts = list(context_corpus.values())"
   ]
  },
  {
   "cell_type": "code",
   "execution_count": 7,
   "id": "4cc5e961",
   "metadata": {},
   "outputs": [],
   "source": [
    "class CreateDataset(Dataset):\n",
    "    def __init__(self, context_corpus, question_corpus, labels):\n",
    "        self.context_corpus = context_corpus\n",
    "        self.question_corpus = question_corpus\n",
    "        self.labels = list(labels.items())\n",
    "        print(self.labels[0])\n",
    "    \n",
    "    def __len__(self):\n",
    "        return len(self.labels)\n",
    "        \n",
    "    def __getitem__(self, idx):\n",
    "        que_id, doc_id = self.labels[idx]\n",
    "        return {'context': self.context_corpus[doc_id], 'question': self.question_corpus[que_id]}"
   ]
  },
  {
   "cell_type": "code",
   "execution_count": 8,
   "id": "15f9cd7e",
   "metadata": {},
   "outputs": [],
   "source": [
    "class Model(nn.Module):\n",
    "    def __init__(self, args):\n",
    "        super().__init__()\n",
    "        config = ElectraConfig.from_pretrained(args.model_name, local_file_only=True)\n",
    "        self.model  = ElectraModel.from_pretrained(args.model_name, config=config)\n",
    "        self.tokenizer = ElectraTokenizer.from_pretrained(args.model_name, local_file_only=True)\n",
    "        \n",
    "        self.punctation_idx = self.tokenizer.get_vocab()['.']\n",
    "        self.pad_token_idx = self.tokenizer.pad_token_id\n",
    "        self.mask_token_idx = self.tokenizer.mask_token_id\n",
    "        self.d = self.tokenizer.get_vocab()['[unused0]']\n",
    "        self.q = self.tokenizer.get_vocab()['[unused1]']\n",
    "        self.linear = nn.Linear(config.hidden_size, 256)\n",
    "        \n",
    "        self.doc_maxlen = args.doc_maxlen\n",
    "        self.query_maxlen = args.query_maxlen\n",
    "        self.device = args.device\n",
    "        self.criterion = nn.CrossEntropyLoss()\n",
    "        \n",
    "        \n",
    "    def forward(self, feature):\n",
    "        q_output = self.query(feature['question'])\n",
    "        d_output = self.doc(feature['context'])\n",
    "        prediction = self.similarity(q_output, d_output)\n",
    "        print(prediction)\n",
    "        loss = self.calc_loss(prediction)\n",
    "        return loss\n",
    "    \n",
    "    def calc_loss(self, prediction):\n",
    "        batch_size = prediction.shape[0]\n",
    "        label = torch.arange(batch_size).to(self.device)\n",
    "        return self.criterion(prediction, label)\n",
    "        \n",
    "    \n",
    "    def similarity(self, q_output, d_output):\n",
    "        # q_output = [batch, 128, 256]\n",
    "        # d_output = [batch, seq_len, 256]\n",
    "        prediction = torch.einsum('ijk,abk->iajb', q_output, d_output)\n",
    "        prediction, _ = torch.max(prediction, dim=-1)\n",
    "        prediction = torch.sum(prediction, dim=-1)\n",
    "        return prediction\n",
    "    \n",
    "    \n",
    "    def doc(self, D):\n",
    "        inputs = self.tokenizer(D, return_tensors='pt', padding=True, truncation=True, max_length=self.doc_maxlen)\n",
    "        \n",
    "        input_ids = inputs['input_ids']\n",
    "        attention_mask = inputs['attention_mask']\n",
    "        \n",
    "        batch = input_ids.shape[0]\n",
    "        \n",
    "        b = torch.LongTensor([self.d]* batch).view(-1, 1)\n",
    "        a = torch.ones(size=(batch, 1))\n",
    "        \n",
    "        input_ids = torch.cat([input_ids[:, :1], b, input_ids[:, 1:]], dim=1).to(self.device)\n",
    "        attention_mask = torch.cat([attention_mask[:, :1], a, attention_mask[:, 1:]], dim=1).to(self.device)\n",
    "        \n",
    "        punctation = input_ids\n",
    "        \n",
    "        model_input = {'input_ids': input_ids,\n",
    "                      'attention_mask': attention_mask}\n",
    "        \n",
    "        output = self.model(**model_input)['last_hidden_state']\n",
    "        output = self.linear(output)\n",
    "        \n",
    "        new_mask = attention_mask * (punctation != self.punctation_idx)\n",
    "        output = output * new_mask.unsqueeze(-1)\n",
    "        output = torch.nn.functional.normalize(output, p=2, dim=2)\n",
    "        return output\n",
    "    \n",
    "    \n",
    "    def query(self, Q):\n",
    "        inputs = self.tokenizer(Q, return_tensors='pt', truncation=True, max_length=self.query_maxlen,\n",
    "                               pad_to_max_length=True)\n",
    "        \n",
    "        input_ids = inputs['input_ids']\n",
    "        attention_mask = inputs['attention_mask']\n",
    "        \n",
    "        input_ids = input_ids.masked_fill(attention_mask==self.pad_token_idx, self.mask_token_idx)\n",
    "        \n",
    "        batch = input_ids.shape[0]\n",
    "        \n",
    "        b = torch.LongTensor([self.d]* batch).view(-1, 1)\n",
    "        a = torch.zeros(size=(batch, 1))\n",
    "        \n",
    "        input_ids = torch.cat([input_ids[:, :1], b, input_ids[:, 1:]], dim=1).to(self.device)\n",
    "        new_mask = torch.ones_like(input_ids).to(self.device)\n",
    "        \n",
    "        punctation = input_ids\n",
    "        \n",
    "        model_input = {'input_ids': input_ids,\n",
    "                      'attention_mask': new_mask}\n",
    "        \n",
    "        output = self.model(**model_input)['last_hidden_state']\n",
    "        output = self.linear(output)\n",
    "        output = torch.nn.functional.normalize(output, p=2, dim=2)\n",
    "        return output\n"
   ]
  },
  {
   "cell_type": "code",
   "execution_count": 9,
   "id": "5a10c291",
   "metadata": {},
   "outputs": [],
   "source": [
    "import easydict\n",
    "from tqdm import tqdm\n",
    "args = easydict.EasyDict({\n",
    "    'model_name': 'monologg/koelectra-base-v3-discriminator',\n",
    "    'doc_maxlen': 512-1,\n",
    "    'query_maxlen': 128-1,\n",
    "    'device': 'cuda',\n",
    "    'epochs': 5,\n",
    "    'warmup': 0.1,\n",
    "    'batch_size': 16\n",
    "})"
   ]
  },
  {
   "cell_type": "code",
   "execution_count": 10,
   "id": "f55ff1e6",
   "metadata": {},
   "outputs": [],
   "source": [
    "model = torch.load('best.pt').to(args.device).eval()"
   ]
  },
  {
   "cell_type": "code",
   "execution_count": 13,
   "id": "ad116ece",
   "metadata": {},
   "outputs": [],
   "source": [
    "class Document(Dataset):\n",
    "    def __init__(self, corpus, test_labels_json):\n",
    "        self.corpus = corpus\n",
    "        self.label = self.create_label(corpus, test_labels_json)\n",
    "        \n",
    "    def create_label(self, corpus, test_labels_json):\n",
    "        label = []\n",
    "        for key in test_labels_json.keys():\n",
    "            label.append(key)\n",
    "        return label\n",
    "            \n",
    "    \n",
    "    def __len__(self):\n",
    "        return len(self.label)\n",
    "    \n",
    "    def __getitem__(self, idx):\n",
    "        return {'context': self.corpus[self.label[idx]], 'context_id': self.label[idx]}"
   ]
  },
  {
   "cell_type": "code",
   "execution_count": 14,
   "id": "a045481d",
   "metadata": {},
   "outputs": [],
   "source": [
    "document_dataset = Document(context_corpus, test_labels_json)\n",
    "document_dataloader = DataLoader(document_dataset, batch_size=1, shuffle=False)"
   ]
  },
  {
   "cell_type": "code",
   "execution_count": 15,
   "id": "8ddb5f10",
   "metadata": {},
   "outputs": [
    {
     "data": {
      "text/plain": [
       "24711"
      ]
     },
     "execution_count": 15,
     "metadata": {},
     "output_type": "execute_result"
    }
   ],
   "source": [
    "len(document_dataloader)"
   ]
  },
  {
   "cell_type": "code",
   "execution_count": 16,
   "id": "ebb55361",
   "metadata": {},
   "outputs": [
    {
     "name": "stdout",
     "output_type": "stream",
     "text": [
      "{'context': ['존경하는 국민 여러분, 농어민 여러분! ‘농정틀 전환을 위한 2019 타운홀미팅 보고대회’를 전통과 한식의 도시 전주에서 열게 되어 매우 뜻깊게 생각합니다. 특별히 농어업 인재양성의 산실 한국농수산대학의 젊은 후계자들과 함께해 더욱 기쁩니다. 우리 농어업의 새로운 미래가 청년들에게 희망이 되기를 기대합니다. 우리는 모두 농어민의 자손입니다. 우리는 선사 시대부터 벼농사와 어업을 함께하는 농경사회를 이루었고, 농어업을 통해 자연의 섭리를 배웠습니다. 우리가 어른을 공경하고 공동체를 중요하게 여기는 우수한 민족이 된 것도 농어업으로 형성된 협동정신이 있었기 때문입니다. 우리 민족의 정신과 뿌리도 농어촌에 있습니다. 전라북도에서 시작한 동학농민혁명은 농민 스스로 일어나 나라를 개혁하고자 했고, 그 정신이 의병활동과 3·1독립운동으로 이어져 대한민국임시정부 수립과 민주공화국 수립의 근간이 되었습니다. 많은 애국지사가 나라의 주인이 농민임을 천명하며 농촌 계몽운동으로 근대문명과 독립의 힘을 키웠습니다. 대한민국 발전의 근간도 농어촌이었습니다. 오늘 우리가 이룩한 눈부신 산업 발전도 농어촌의 뒷받침이 있었기에 가능했습니다. 하지만 그 과정에서 농어촌은 피폐해지고 도시와 격차가 커져온 것이 사실입니다. '], 'context_id': ['PARS_bEpJzknCai']}\n"
     ]
    }
   ],
   "source": [
    "for i in document_dataloader:\n",
    "    print(i)\n",
    "    break"
   ]
  },
  {
   "cell_type": "code",
   "execution_count": 17,
   "id": "71efdfe3",
   "metadata": {},
   "outputs": [],
   "source": [
    "document_vector = {}"
   ]
  },
  {
   "cell_type": "code",
   "execution_count": 18,
   "id": "7fc8322b",
   "metadata": {},
   "outputs": [
    {
     "name": "stderr",
     "output_type": "stream",
     "text": [
      "24711it [07:15, 56.81it/s]\n"
     ]
    }
   ],
   "source": [
    "for cnt, x in tqdm(enumerate(document_dataloader)):\n",
    "    doc_vec = model.doc(x['context']).cpu().detach().numpy()[0]\n",
    "    document_vector[x['context_id'][0]] = doc_vec"
   ]
  },
  {
   "cell_type": "code",
   "execution_count": 19,
   "id": "14cf3674",
   "metadata": {},
   "outputs": [
    {
     "data": {
      "text/plain": [
       "'PARS_bEpJzknCai'"
      ]
     },
     "execution_count": 19,
     "metadata": {},
     "output_type": "execute_result"
    }
   ],
   "source": [
    "list(document_vector.keys())[0]"
   ]
  },
  {
   "cell_type": "code",
   "execution_count": 26,
   "id": "99d5d87a",
   "metadata": {},
   "outputs": [],
   "source": [
    "class Question(Dataset):\n",
    "    def __init__(self, corpus, test_labels_json):\n",
    "        self.corpus = corpus\n",
    "        self.label = self.create_label(corpus, test_labels_json)\n",
    "        \n",
    "    def create_label(self, corpus, test_labels_json):\n",
    "        label = []\n",
    "        for key in test_labels_json.keys():\n",
    "            for ques in test_labels_json[key]:\n",
    "                label.append(ques)\n",
    "        return label\n",
    "    \n",
    "    def __len__(self):\n",
    "        return len(self.label)\n",
    "    \n",
    "    def __getitem__(self, idx):\n",
    "        return {'question': self.corpus[self.label[idx]], 'question_id': self.label[idx]}"
   ]
  },
  {
   "cell_type": "code",
   "execution_count": 27,
   "id": "411a9fcb",
   "metadata": {},
   "outputs": [],
   "source": [
    "question_dataset = Question(question_corpus, test_labels_json)\n",
    "question_dataloader = DataLoader(question_dataset, batch_size=1, shuffle=False)"
   ]
  },
  {
   "cell_type": "code",
   "execution_count": 28,
   "id": "36beabca",
   "metadata": {},
   "outputs": [
    {
     "name": "stdout",
     "output_type": "stream",
     "text": [
      "{'context': ['존경하는 국민 여러분, 농어민 여러분! ‘농정틀 전환을 위한 2019 타운홀미팅 보고대회’를 전통과 한식의 도시 전주에서 열게 되어 매우 뜻깊게 생각합니다. 특별히 농어업 인재양성의 산실 한국농수산대학의 젊은 후계자들과 함께해 더욱 기쁩니다. 우리 농어업의 새로운 미래가 청년들에게 희망이 되기를 기대합니다. 우리는 모두 농어민의 자손입니다. 우리는 선사 시대부터 벼농사와 어업을 함께하는 농경사회를 이루었고, 농어업을 통해 자연의 섭리를 배웠습니다. 우리가 어른을 공경하고 공동체를 중요하게 여기는 우수한 민족이 된 것도 농어업으로 형성된 협동정신이 있었기 때문입니다. 우리 민족의 정신과 뿌리도 농어촌에 있습니다. 전라북도에서 시작한 동학농민혁명은 농민 스스로 일어나 나라를 개혁하고자 했고, 그 정신이 의병활동과 3·1독립운동으로 이어져 대한민국임시정부 수립과 민주공화국 수립의 근간이 되었습니다. 많은 애국지사가 나라의 주인이 농민임을 천명하며 농촌 계몽운동으로 근대문명과 독립의 힘을 키웠습니다. 대한민국 발전의 근간도 농어촌이었습니다. 오늘 우리가 이룩한 눈부신 산업 발전도 농어촌의 뒷받침이 있었기에 가능했습니다. 하지만 그 과정에서 농어촌은 피폐해지고 도시와 격차가 커져온 것이 사실입니다. '], 'context_id': ['PARS_bEpJzknCai']}\n"
     ]
    }
   ],
   "source": [
    "for i in document_dataloader:\n",
    "    print(i)\n",
    "    break"
   ]
  },
  {
   "cell_type": "code",
   "execution_count": 29,
   "id": "5da95bd6",
   "metadata": {},
   "outputs": [],
   "source": [
    "question_vector = {}"
   ]
  },
  {
   "cell_type": "code",
   "execution_count": 30,
   "id": "cabeedb5",
   "metadata": {},
   "outputs": [
    {
     "name": "stderr",
     "output_type": "stream",
     "text": [
      "0it [00:00, ?it/s]C:\\Users\\Inha\\anaconda3\\envs\\inha\\lib\\site-packages\\transformers\\tokenization_utils_base.py:2212: FutureWarning: The `pad_to_max_length` argument is deprecated and will be removed in a future version, use `padding=True` or `padding='longest'` to pad to the longest sequence in the batch, or use `padding='max_length'` to pad to a max length. In this case, you can give a specific length with `max_length` (e.g. `max_length=45`) or leave max_length to None to pad to the maximal input size of the model (e.g. 512 for Bert).\n",
      "  warnings.warn(\n",
      "46691it [12:01, 64.69it/s]\n"
     ]
    }
   ],
   "source": [
    "for cnt, x in tqdm(enumerate(question_dataloader)):\n",
    "    ques_vec = model.query(x['question']).cpu().detach().numpy()[0]\n",
    "    question_vector[x['question_id'][0]] = ques_vec"
   ]
  },
  {
   "cell_type": "code",
   "execution_count": 31,
   "id": "e2b5010a",
   "metadata": {},
   "outputs": [],
   "source": [
    "import heapq"
   ]
  },
  {
   "cell_type": "code",
   "execution_count": 32,
   "id": "8aa7e8c3",
   "metadata": {},
   "outputs": [
    {
     "name": "stderr",
     "output_type": "stream",
     "text": [
      "  3%|██▏                                                                              | 10/365 [00:00<00:04, 87.71it/s]"
     ]
    },
    {
     "name": "stdout",
     "output_type": "stream",
     "text": [
      "0 128 128 46691\n",
      "128 128 128 46691\n",
      "256 128 128 46691\n",
      "384 128 128 46691\n",
      "512 128 128 46691\n",
      "640 128 128 46691\n",
      "768 128 128 46691\n",
      "896 128 128 46691\n",
      "1024 128 128 46691\n",
      "1152 128 128 46691\n",
      "1280 128 128 46691\n",
      "1408 128 128 46691\n",
      "1536 128 128 46691\n",
      "1664 128 128 46691\n",
      "1792 128 128 46691\n",
      "1920 128 128 46691\n",
      "2048 128 128 46691\n",
      "2176 128 128 46691\n"
     ]
    },
    {
     "name": "stderr",
     "output_type": "stream",
     "text": [
      "  8%|██████▋                                                                          | 30/365 [00:00<00:03, 90.52it/s]"
     ]
    },
    {
     "name": "stdout",
     "output_type": "stream",
     "text": [
      "2304 128 128 46691\n",
      "2432 128 128 46691\n",
      "2560 128 128 46691\n",
      "2688 128 128 46691\n",
      "2816 128 128 46691\n",
      "2944 128 128 46691\n",
      "3072 128 128 46691\n",
      "3200 128 128 46691\n",
      "3328 128 128 46691\n",
      "3456 128 128 46691\n",
      "3584 128 128 46691\n",
      "3712 128 128 46691\n",
      "3840 128 128 46691\n",
      "3968 128 128 46691\n",
      "4096 128 128 46691\n",
      "4224 128 128 46691\n",
      "4352 128 128 46691\n",
      "4480 128 128 46691\n",
      "4608 128 128 46691\n"
     ]
    },
    {
     "name": "stderr",
     "output_type": "stream",
     "text": [
      " 14%|███████████                                                                      | 50/365 [00:00<00:03, 91.92it/s]"
     ]
    },
    {
     "name": "stdout",
     "output_type": "stream",
     "text": [
      "4736 128 128 46691\n",
      "4864 128 128 46691\n",
      "4992 128 128 46691\n",
      "5120 128 128 46691\n",
      "5248 128 128 46691\n",
      "5376 128 128 46691\n",
      "5504 128 128 46691\n",
      "5632 128 128 46691\n",
      "5760 128 128 46691\n",
      "5888 128 128 46691\n",
      "6016 128 128 46691\n",
      "6144 128 128 46691\n",
      "6272 128 128 46691\n",
      "6400 128 128 46691\n",
      "6528 128 128 46691\n",
      "6656 128 128 46691\n",
      "6784 128 128 46691\n",
      "6912 128 128 46691\n"
     ]
    },
    {
     "name": "stderr",
     "output_type": "stream",
     "text": [
      " 19%|███████████████▌                                                                 | 70/365 [00:00<00:03, 91.04it/s]"
     ]
    },
    {
     "name": "stdout",
     "output_type": "stream",
     "text": [
      "7040 128 128 46691\n",
      "7168 128 128 46691\n",
      "7296 128 128 46691\n",
      "7424 128 128 46691\n",
      "7552 128 128 46691\n",
      "7680 128 128 46691\n",
      "7808 128 128 46691\n",
      "7936 128 128 46691\n",
      "8064 128 128 46691\n",
      "8192 128 128 46691\n",
      "8320 128 128 46691\n",
      "8448 128 128 46691\n",
      "8576 128 128 46691\n",
      "8704 128 128 46691\n",
      "8832 128 128 46691\n",
      "8960 128 128 46691\n",
      "9088 128 128 46691\n",
      "9216 128 128 46691\n",
      "9344 128 128 46691\n"
     ]
    },
    {
     "name": "stderr",
     "output_type": "stream",
     "text": [
      " 25%|███████████████████▉                                                             | 90/365 [00:00<00:03, 91.27it/s]"
     ]
    },
    {
     "name": "stdout",
     "output_type": "stream",
     "text": [
      "9472 128 128 46691\n",
      "9600 128 128 46691\n",
      "9728 128 128 46691\n",
      "9856 128 128 46691\n",
      "9984 128 128 46691\n",
      "10112 128 128 46691\n",
      "10240 128 128 46691\n",
      "10368 128 128 46691\n",
      "10496 128 128 46691\n",
      "10624 128 128 46691\n",
      "10752 128 128 46691\n",
      "10880 128 128 46691\n",
      "11008 128 128 46691\n",
      "11136 128 128 46691\n",
      "11264 128 128 46691\n",
      "11392 128 128 46691\n",
      "11520 128 128 46691\n",
      "11648 128 128 46691\n"
     ]
    },
    {
     "name": "stderr",
     "output_type": "stream",
     "text": [
      "\r",
      " 27%|█████████████████████▉                                                          | 100/365 [00:01<00:03, 86.50it/s]"
     ]
    },
    {
     "name": "stdout",
     "output_type": "stream",
     "text": [
      "11776 128 128 46691\n",
      "11904 128 128 46691\n",
      "12032 128 128 46691\n",
      "12160 128 128 46691\n",
      "12288 128 128 46691\n",
      "12416 128 128 46691\n",
      "12544 128 128 46691\n",
      "12672 128 128 46691\n",
      "12800 128 128 46691\n",
      "12928 128 128 46691\n",
      "13056 128 128 46691\n",
      "13184 128 128 46691\n",
      "13312 128 128 46691\n",
      "13440 128 128 46691\n",
      "13568 128 128 46691\n",
      "13696 128 128 46691\n"
     ]
    },
    {
     "name": "stderr",
     "output_type": "stream",
     "text": [
      " 33%|██████████████████████████▎                                                     | 120/365 [00:01<00:02, 89.20it/s]"
     ]
    },
    {
     "name": "stdout",
     "output_type": "stream",
     "text": [
      "13824 128 128 46691\n",
      "13952 128 128 46691\n",
      "14080 128 128 46691\n",
      "14208 128 128 46691\n",
      "14336 128 128 46691\n",
      "14464 128 128 46691\n",
      "14592 128 128 46691\n",
      "14720 128 128 46691\n",
      "14848 128 128 46691\n",
      "14976 128 128 46691\n",
      "15104 128 128 46691\n",
      "15232 128 128 46691\n",
      "15360 128 128 46691\n",
      "15488 128 128 46691\n",
      "15616 128 128 46691\n",
      "15744 128 128 46691\n",
      "15872 128 128 46691\n",
      "16000 128 128 46691\n",
      "16128 128 128 46691\n"
     ]
    },
    {
     "name": "stderr",
     "output_type": "stream",
     "text": [
      " 38%|██████████████████████████████▋                                                 | 140/365 [00:01<00:02, 92.22it/s]"
     ]
    },
    {
     "name": "stdout",
     "output_type": "stream",
     "text": [
      "16256 128 128 46691\n",
      "16384 128 128 46691\n",
      "16512 128 128 46691\n",
      "16640 128 128 46691\n",
      "16768 128 128 46691\n",
      "16896 128 128 46691\n",
      "17024 128 128 46691\n",
      "17152 128 128 46691\n",
      "17280 128 128 46691\n",
      "17408 128 128 46691\n",
      "17536 128 128 46691\n",
      "17664 128 128 46691\n",
      "17792 128 128 46691\n",
      "17920 128 128 46691\n",
      "18048 128 128 46691\n",
      "18176 128 128 46691\n",
      "18304 128 128 46691\n",
      "18432 128 128 46691\n",
      "18560 128 128 46691\n"
     ]
    },
    {
     "name": "stderr",
     "output_type": "stream",
     "text": [
      " 44%|███████████████████████████████████                                             | 160/365 [00:01<00:02, 86.46it/s]"
     ]
    },
    {
     "name": "stdout",
     "output_type": "stream",
     "text": [
      "18688 128 128 46691\n",
      "18816 128 128 46691\n",
      "18944 128 128 46691\n",
      "19072 128 128 46691\n",
      "19200 128 128 46691\n",
      "19328 128 128 46691\n",
      "19456 128 128 46691\n",
      "19584 128 128 46691\n",
      "19712 128 128 46691\n",
      "19840 128 128 46691\n",
      "19968 128 128 46691\n",
      "20096 128 128 46691\n",
      "20224 128 128 46691\n",
      "20352 128 128 46691\n"
     ]
    },
    {
     "name": "stderr",
     "output_type": "stream",
     "text": [
      "\r",
      " 47%|█████████████████████████████████████▍                                          | 171/365 [00:01<00:02, 89.38it/s]"
     ]
    },
    {
     "name": "stdout",
     "output_type": "stream",
     "text": [
      "20480 128 128 46691\n",
      "20608 128 128 46691\n",
      "20736 128 128 46691\n",
      "20864 128 128 46691\n",
      "20992 128 128 46691\n",
      "21120 128 128 46691\n",
      "21248 128 128 46691\n",
      "21376 128 128 46691\n",
      "21504 128 128 46691\n",
      "21632 128 128 46691\n",
      "21760 128 128 46691\n",
      "21888 128 128 46691\n",
      "22016 128 128 46691\n",
      "22144 128 128 46691\n",
      "22272 128 128 46691\n",
      "22400 128 128 46691\n",
      "22528 128 128 46691\n",
      "22656 128 128 46691\n",
      "22784 128 128 46691\n"
     ]
    },
    {
     "name": "stderr",
     "output_type": "stream",
     "text": [
      " 52%|█████████████████████████████████████████▊                                      | 191/365 [00:02<00:01, 89.80it/s]"
     ]
    },
    {
     "name": "stdout",
     "output_type": "stream",
     "text": [
      "22912 128 128 46691\n",
      "23040 128 128 46691\n",
      "23168 128 128 46691\n",
      "23296 128 128 46691\n",
      "23424 128 128 46691\n",
      "23552 128 128 46691\n",
      "23680 128 128 46691\n",
      "23808 128 128 46691\n",
      "23936 128 128 46691\n",
      "24064 128 128 46691\n",
      "24192 128 128 46691\n",
      "24320 128 128 46691\n",
      "24448 128 128 46691\n",
      "24576 128 128 46691\n",
      "24704 128 128 46691\n",
      "24832 128 128 46691\n",
      "24960 128 128 46691\n",
      "25088 128 128 46691\n"
     ]
    },
    {
     "name": "stderr",
     "output_type": "stream",
     "text": [
      " 58%|██████████████████████████████████████████████▏                                 | 211/365 [00:02<00:01, 92.94it/s]"
     ]
    },
    {
     "name": "stdout",
     "output_type": "stream",
     "text": [
      "25216 128 128 46691\n",
      "25344 128 128 46691\n",
      "25472 128 128 46691\n",
      "25600 128 128 46691\n",
      "25728 128 128 46691\n",
      "25856 128 128 46691\n",
      "25984 128 128 46691\n",
      "26112 128 128 46691\n",
      "26240 128 128 46691\n",
      "26368 128 128 46691\n",
      "26496 128 128 46691\n",
      "26624 128 128 46691\n",
      "26752 128 128 46691\n",
      "26880 128 128 46691\n",
      "27008 128 128 46691\n",
      "27136 128 128 46691\n",
      "27264 128 128 46691\n",
      "27392 128 128 46691\n",
      "27520 128 128 46691\n",
      "27648 128 128 46691\n"
     ]
    },
    {
     "name": "stderr",
     "output_type": "stream",
     "text": [
      " 63%|██████████████████████████████████████████████████▋                             | 231/365 [00:02<00:01, 92.35it/s]"
     ]
    },
    {
     "name": "stdout",
     "output_type": "stream",
     "text": [
      "27776 128 128 46691\n",
      "27904 128 128 46691\n",
      "28032 128 128 46691\n",
      "28160 128 128 46691\n",
      "28288 128 128 46691\n",
      "28416 128 128 46691\n",
      "28544 128 128 46691\n",
      "28672 128 128 46691\n",
      "28800 128 128 46691\n",
      "28928 128 128 46691\n",
      "29056 128 128 46691\n",
      "29184 128 128 46691\n",
      "29312 128 128 46691\n",
      "29440 128 128 46691\n",
      "29568 128 128 46691\n",
      "29696 128 128 46691\n",
      "29824 128 128 46691\n"
     ]
    },
    {
     "name": "stderr",
     "output_type": "stream",
     "text": [
      "\r",
      " 66%|█████████████████████████████████████████████████████                           | 242/365 [00:02<00:01, 93.63it/s]"
     ]
    },
    {
     "name": "stdout",
     "output_type": "stream",
     "text": [
      "29952 128 128 46691\n",
      "30080 128 128 46691\n",
      "30208 128 128 46691\n",
      "30336 128 128 46691\n",
      "30464 128 128 46691\n",
      "30592 128 128 46691\n",
      "30720 128 128 46691\n",
      "30848 128 128 46691\n",
      "30976 128 128 46691\n",
      "31104 128 128 46691\n",
      "31232 128 128 46691\n",
      "31360 128 128 46691\n",
      "31488 128 128 46691\n",
      "31616 128 128 46691\n",
      "31744 128 128 46691\n",
      "31872 128 128 46691\n",
      "32000 128 128 46691\n",
      "32128 128 128 46691\n"
     ]
    },
    {
     "name": "stderr",
     "output_type": "stream",
     "text": [
      " 72%|█████████████████████████████████████████████████████████▍                      | 262/365 [00:02<00:01, 91.45it/s]"
     ]
    },
    {
     "name": "stdout",
     "output_type": "stream",
     "text": [
      "32256 128 128 46691\n",
      "32384 128 128 46691\n",
      "32512 128 128 46691\n",
      "32640 128 128 46691\n",
      "32768 128 128 46691\n",
      "32896 128 128 46691\n",
      "33024 128 128 46691\n",
      "33152 128 128 46691\n",
      "33280 128 128 46691\n",
      "33408 128 128 46691\n",
      "33536 128 128 46691\n",
      "33664 128 128 46691\n",
      "33792 128 128 46691\n",
      "33920 128 128 46691\n",
      "34048 128 128 46691\n",
      "34176 128 128 46691\n",
      "34304 128 128 46691\n",
      "34432 128 128 46691\n"
     ]
    },
    {
     "name": "stderr",
     "output_type": "stream",
     "text": [
      " 77%|█████████████████████████████████████████████████████████████▊                  | 282/365 [00:03<00:00, 92.47it/s]"
     ]
    },
    {
     "name": "stdout",
     "output_type": "stream",
     "text": [
      "34560 128 128 46691\n",
      "34688 128 128 46691\n",
      "34816 128 128 46691\n",
      "34944 128 128 46691\n",
      "35072 128 128 46691\n",
      "35200 128 128 46691\n",
      "35328 128 128 46691\n",
      "35456 128 128 46691\n",
      "35584 128 128 46691\n",
      "35712 128 128 46691\n",
      "35840 128 128 46691\n",
      "35968 128 128 46691\n",
      "36096 128 128 46691\n",
      "36224 128 128 46691\n",
      "36352 128 128 46691\n",
      "36480 128 128 46691\n",
      "36608 128 128 46691\n"
     ]
    },
    {
     "name": "stderr",
     "output_type": "stream",
     "text": [
      " 83%|██████████████████████████████████████████████████████████████████▍             | 303/365 [00:03<00:00, 92.38it/s]"
     ]
    },
    {
     "name": "stdout",
     "output_type": "stream",
     "text": [
      "36736 128 128 46691\n",
      "36864 128 128 46691\n",
      "36992 128 128 46691\n",
      "37120 128 128 46691\n",
      "37248 128 128 46691\n",
      "37376 128 128 46691\n",
      "37504 128 128 46691\n",
      "37632 128 128 46691\n",
      "37760 128 128 46691\n",
      "37888 128 128 46691\n",
      "38016 128 128 46691\n",
      "38144 128 128 46691\n",
      "38272 128 128 46691\n",
      "38400 128 128 46691\n",
      "38528 128 128 46691\n",
      "38656 128 128 46691\n",
      "38784 128 128 46691\n",
      "38912 128 128 46691\n"
     ]
    },
    {
     "name": "stderr",
     "output_type": "stream",
     "text": [
      "\r",
      " 86%|████████████████████████████████████████████████████████████████████▌           | 313/365 [00:03<00:00, 91.54it/s]"
     ]
    },
    {
     "name": "stdout",
     "output_type": "stream",
     "text": [
      "39040 128 128 46691\n",
      "39168 128 128 46691\n",
      "39296 128 128 46691\n",
      "39424 128 128 46691\n",
      "39552 128 128 46691\n",
      "39680 128 128 46691\n",
      "39808 128 128 46691\n",
      "39936 128 128 46691\n",
      "40064 128 128 46691\n",
      "40192 128 128 46691\n",
      "40320 128 128 46691\n",
      "40448 128 128 46691\n",
      "40576 128 128 46691\n",
      "40704 128 128 46691\n",
      "40832 128 128 46691\n",
      "40960 128 128 46691\n",
      "41088 128 128 46691\n",
      "41216 128 128 46691\n",
      "41344 128 128 46691\n"
     ]
    },
    {
     "name": "stderr",
     "output_type": "stream",
     "text": [
      " 92%|█████████████████████████████████████████████████████████████████████████▏      | 334/365 [00:03<00:00, 94.85it/s]"
     ]
    },
    {
     "name": "stdout",
     "output_type": "stream",
     "text": [
      "41472 128 128 46691\n",
      "41600 128 128 46691\n",
      "41728 128 128 46691\n",
      "41856 128 128 46691\n",
      "41984 128 128 46691\n",
      "42112 128 128 46691\n",
      "42240 128 128 46691\n",
      "42368 128 128 46691\n",
      "42496 128 128 46691\n",
      "42624 128 128 46691\n",
      "42752 128 128 46691\n",
      "42880 128 128 46691\n",
      "43008 128 128 46691\n",
      "43136 128 128 46691\n",
      "43264 128 128 46691\n",
      "43392 128 128 46691\n",
      "43520 128 128 46691\n",
      "43648 128 128 46691\n"
     ]
    },
    {
     "name": "stderr",
     "output_type": "stream",
     "text": [
      " 97%|█████████████████████████████████████████████████████████████████████████████▌  | 354/365 [00:03<00:00, 90.29it/s]"
     ]
    },
    {
     "name": "stdout",
     "output_type": "stream",
     "text": [
      "43776 128 128 46691\n",
      "43904 128 128 46691\n",
      "44032 128 128 46691\n",
      "44160 128 128 46691\n",
      "44288 128 128 46691\n",
      "44416 128 128 46691\n",
      "44544 128 128 46691\n",
      "44672 128 128 46691\n",
      "44800 128 128 46691\n",
      "44928 128 128 46691\n",
      "45056 128 128 46691\n",
      "45184 128 128 46691\n",
      "45312 128 128 46691\n",
      "45440 128 128 46691\n",
      "45568 128 128 46691\n",
      "45696 128 128 46691\n",
      "45824 128 128 46691\n"
     ]
    },
    {
     "name": "stderr",
     "output_type": "stream",
     "text": [
      "100%|████████████████████████████████████████████████████████████████████████████████| 365/365 [00:04<00:00, 90.37it/s]"
     ]
    },
    {
     "name": "stdout",
     "output_type": "stream",
     "text": [
      "45952 128 128 46691\n",
      "46080 128 128 46691\n",
      "46208 128 128 46691\n",
      "46336 128 128 46691\n",
      "46464 128 128 46691\n",
      "46592 128 99 46691\n"
     ]
    },
    {
     "name": "stderr",
     "output_type": "stream",
     "text": [
      "\n"
     ]
    }
   ],
   "source": [
    "question_ids_save = list(question_vector.keys())\n",
    "\n",
    "batch_system = []\n",
    "batch_id = []\n",
    "batch = 128\n",
    "for index in tqdm(range(0, len(question_ids_save), batch)):\n",
    "    length = batch if index+batch <= len(question_ids_save) else len(question_ids_save) - index\n",
    "    print(index, batch, length, len(question_ids_save))\n",
    "    q_vector = np.zeros(shape=(length, 128, 256))\n",
    "    dummy = []\n",
    "    for i in range(index, index+length):\n",
    "        q_vector[i-index] = question_vector[question_ids_save[i]]\n",
    "        dummy.append(question_ids_save[i])\n",
    "    batch_system.append(q_vector)\n",
    "    batch_id.append(dummy)"
   ]
  },
  {
   "cell_type": "code",
   "execution_count": 33,
   "id": "5c01be30",
   "metadata": {},
   "outputs": [
    {
     "name": "stderr",
     "output_type": "stream",
     "text": [
      "100%|█████████████████████████████████████████████████████████████████████████| 24711/24711 [40:52:58<00:00,  5.96s/it]\n"
     ]
    }
   ],
   "source": [
    "colbert_answer = {x: [] for x in question_ids_save}\n",
    "\n",
    "for k in tqdm(document_vector.keys()):\n",
    "    d_vector = torch.FloatTensor(document_vector[k]).unsqueeze(0)\n",
    "    d_id = k\n",
    "\n",
    "    for q_vector, b_id in zip(batch_system, batch_id):\n",
    "        q_vector = torch.FloatTensor(q_vector)\n",
    "        sim = model.similarity(q_vector.to('cuda'), d_vector.to('cuda'))\n",
    "        \n",
    "        for ans, s in zip(b_id, sim):\n",
    "            heapq.heappush(colbert_answer[ans], (s.item(), d_id))\n",
    "        \n",
    "            if len(colbert_answer[ans]) > 150:\n",
    "                heapq.heappop(colbert_answer[ans])"
   ]
  },
  {
   "cell_type": "code",
   "execution_count": null,
   "id": "9dae9d21",
   "metadata": {},
   "outputs": [],
   "source": [
    "len(question_ids_save)"
   ]
  },
  {
   "cell_type": "code",
   "execution_count": 40,
   "id": "75f3715d",
   "metadata": {},
   "outputs": [],
   "source": [
    "test_labels = {}\n",
    "for t_l in test_labels_json:\n",
    "    for ques in test_labels_json[t_l]:\n",
    "        test_labels[ques] = t_l"
   ]
  },
  {
   "cell_type": "code",
   "execution_count": 46,
   "id": "ae3708a8",
   "metadata": {},
   "outputs": [
    {
     "data": {
      "text/plain": [
       "[(99.36807250976562, 'PARS_22HkDLsm8e'),\n",
       " (99.38423156738281, 'PARS_OZ1Rl1RA5X'),\n",
       " (99.45043182373047, 'PARS_qe0PwLnjls'),\n",
       " (99.45416259765625, 'PARS_l62DRK0d7F'),\n",
       " (99.4552230834961, 'PARS_8Pf5bF1cWh'),\n",
       " (99.46266174316406, 'PARS_Z5vZd89MLk'),\n",
       " (99.46607971191406, 'PARS_XyF2vkLgRs'),\n",
       " (99.47541809082031, 'PARS_zSLroHKBUa'),\n",
       " (99.48851013183594, 'PARS_rkJRhW7MNs'),\n",
       " (99.51742553710938, 'PARS_xIhmbG5mYy'),\n",
       " (99.53881072998047, 'PARS_cM3cM2rTfb'),\n",
       " (99.54238891601562, 'PARS_FA2PTEudUH'),\n",
       " (99.55689239501953, 'PARS_NNounHRQS7'),\n",
       " (99.573486328125, 'PARS_i2oQELmrmW'),\n",
       " (99.59122467041016, 'PARS_5dVJPX6Ckj'),\n",
       " (99.59381103515625, 'PARS_EtGknjmkLS'),\n",
       " (99.59762573242188, 'PARS_udolVipaH8'),\n",
       " (99.63641357421875, 'PARS_C2F0J62t2R'),\n",
       " (99.64708709716797, 'PARS_ukjDIAEou4'),\n",
       " (99.65301513671875, 'PARS_TlLjhiEwTI'),\n",
       " (99.68982696533203, 'PARS_dMWIjKyGGY'),\n",
       " (99.72430419921875, 'PARS_miZ4brpYJJ'),\n",
       " (99.73123931884766, 'PARS_rEmQFfmcsc'),\n",
       " (99.74237060546875, 'PARS_O1MBVAQKXP'),\n",
       " (99.74324798583984, 'PARS_USoKDekVwr'),\n",
       " (99.75015258789062, 'PARS_MvF9WlGF9O'),\n",
       " (99.76008605957031, 'PARS_KQRG4ZhZJG'),\n",
       " (99.77397155761719, 'PARS_ApbOPPe7LX'),\n",
       " (99.7843017578125, 'PARS_D9AUkPOtCQ'),\n",
       " (99.78924560546875, 'PARS_rNRC8cfvTj'),\n",
       " (99.80632019042969, 'PARS_RNGcgMwhUU'),\n",
       " (99.80633544921875, 'PARS_7WKmoRJj3z'),\n",
       " (99.82769012451172, 'PARS_JWmjuWHVua'),\n",
       " (99.8535385131836, 'PARS_P7YpbWDilF'),\n",
       " (99.8540267944336, 'PARS_ymSA9Ci2uw'),\n",
       " (99.89744567871094, 'PARS_ZgboVA3K2T'),\n",
       " (99.90892028808594, 'PARS_hNMTd0G034'),\n",
       " (99.9314956665039, 'PARS_1vSxIyxpXV'),\n",
       " (99.93862915039062, 'PARS_9lJB3ov0ea'),\n",
       " (99.9517822265625, 'PARS_SGMKFIMjXG'),\n",
       " (99.969970703125, 'PARS_WTvSpaXmaR'),\n",
       " (100.0068588256836, 'PARS_kn1ByZ3nXd'),\n",
       " (100.04005432128906, 'PARS_JNECmo5J2a'),\n",
       " (100.05970764160156, 'PARS_QMULRNHWGd'),\n",
       " (100.07717895507812, 'PARS_9SeeN5YRjk'),\n",
       " (100.14694213867188, 'PARS_BWIrbnSWpd'),\n",
       " (100.15919494628906, 'PARS_9IA6MaDFLM'),\n",
       " (100.16858673095703, 'PARS_wGwccoZ1Hp'),\n",
       " (100.18132019042969, 'PARS_W2YUBcFrrX'),\n",
       " (100.22471618652344, 'PARS_4FgMfAnlcA'),\n",
       " (100.29756164550781, 'PARS_FcOkJOsvjJ'),\n",
       " (100.30105590820312, 'PARS_drtennkxP2'),\n",
       " (100.30371856689453, 'PARS_H1XxtHwIfY'),\n",
       " (100.3071517944336, 'PARS_Il5u8Yq8qk'),\n",
       " (100.31210327148438, 'PARS_PbfotKiPnC'),\n",
       " (100.31584167480469, 'PARS_j3p4Yqg6IN'),\n",
       " (100.35115814208984, 'PARS_Cy2RbijT59'),\n",
       " (100.39119720458984, 'PARS_KraSXVqcF1'),\n",
       " (100.39946746826172, 'PARS_sWZpm9dcKc'),\n",
       " (100.40303802490234, 'PARS_aBfrSv7ydk'),\n",
       " (100.41819763183594, 'PARS_2iOnYtrpwt'),\n",
       " (100.5207748413086, 'PARS_Y5PAX6iYcn'),\n",
       " (100.53031921386719, 'PARS_I59lsNZr1v'),\n",
       " (100.544921875, 'PARS_CvomEXdbHV'),\n",
       " (100.54920196533203, 'PARS_pEK73xGEsY'),\n",
       " (100.57109069824219, 'PARS_oWIKcUw4p5'),\n",
       " (100.59453582763672, 'PARS_7EOy6LxqcF'),\n",
       " (100.71717834472656, 'PARS_B4nKMdmDcs'),\n",
       " (100.72074890136719, 'PARS_s3mbWepobG'),\n",
       " (100.73223876953125, 'PARS_XsVIDReAJL'),\n",
       " (100.75645446777344, 'PARS_y7YOuqkpdU'),\n",
       " (100.84600830078125, 'PARS_AmaGPFX0XV'),\n",
       " (100.93911743164062, 'PARS_MuXFEHyc8k'),\n",
       " (101.00588989257812, 'PARS_7xgfbRDfc8'),\n",
       " (101.01236724853516, 'PARS_zrnQOELGDT'),\n",
       " (101.11460876464844, 'PARS_Zf7xFf62yx'),\n",
       " (101.17681121826172, 'PARS_kL8uz26pLg'),\n",
       " (101.19874572753906, 'PARS_VS6SCh8HeN'),\n",
       " (101.21142578125, 'PARS_YN3ddyYAJk'),\n",
       " (101.23837280273438, 'PARS_NS3tygPdpR'),\n",
       " (101.24279022216797, 'PARS_RYvkI3gTBx'),\n",
       " (101.30044555664062, 'PARS_9KjLC6IBl7'),\n",
       " (101.35426330566406, 'PARS_6idFaVu8Kn'),\n",
       " (101.37652587890625, 'PARS_XSaMzRSeKS'),\n",
       " (101.39091491699219, 'PARS_TAiWVhAoaf'),\n",
       " (101.53483581542969, 'PARS_hwOfk5ZFB0'),\n",
       " (101.590087890625, 'PARS_wlWaAQu4MP'),\n",
       " (101.60270690917969, 'PARS_qPPRUnfyBQ'),\n",
       " (101.60791015625, 'PARS_LAyM78lebw'),\n",
       " (101.62239837646484, 'PARS_i40AjalJNB'),\n",
       " (101.64244079589844, 'PARS_89Qf7zxHm8'),\n",
       " (101.66614532470703, 'PARS_mbuBrg8O42'),\n",
       " (101.72294616699219, 'PARS_cDPAjAkaPW'),\n",
       " (101.80150604248047, 'PARS_fG9yMhpZDS'),\n",
       " (101.80502319335938, 'PARS_946MOSorIC'),\n",
       " (101.86097717285156, 'PARS_QRrYABXv7g'),\n",
       " (101.94342041015625, 'PARS_WTvpX34oE6'),\n",
       " (101.9521255493164, 'PARS_cMavbLp0kD'),\n",
       " (102.01132202148438, 'PARS_mtVOwQSsqD'),\n",
       " (102.11772155761719, 'PARS_eFQjWdOFe5'),\n",
       " (102.16465759277344, 'PARS_AnUwSshw8q'),\n",
       " (102.16524505615234, 'PARS_nnNil0305O'),\n",
       " (102.18984985351562, 'PARS_4OhSsCsnch'),\n",
       " (102.39912414550781, 'PARS_UNgBU2aQdb'),\n",
       " (102.4603271484375, 'PARS_BgpE746Uv6'),\n",
       " (102.47869873046875, 'PARS_JhLwT3eK5g'),\n",
       " (102.65855407714844, 'PARS_NiReKcFhQO'),\n",
       " (102.70252990722656, 'PARS_oYhMnmONsv'),\n",
       " (102.71273803710938, 'PARS_mMSGWGeb6c'),\n",
       " (102.74925231933594, 'PARS_npuVY2uCyZ'),\n",
       " (102.85613250732422, 'PARS_IYVhEUUqLu'),\n",
       " (102.9863510131836, 'PARS_U9MycYiSCq'),\n",
       " (103.00811004638672, 'PARS_NOGFFyMjVA'),\n",
       " (103.02124786376953, 'PARS_WD4XQkfkmI'),\n",
       " (103.05524444580078, 'PARS_vMGEjBOHxU'),\n",
       " (103.14787292480469, 'PARS_0QfaKozIsb'),\n",
       " (103.2081298828125, 'PARS_JUgNJ4Ffpm'),\n",
       " (103.24327850341797, 'PARS_ue5IwoVDOy'),\n",
       " (103.27020263671875, 'PARS_wa9h5N0Fzw'),\n",
       " (103.4261703491211, 'PARS_HyM3oeqPqo'),\n",
       " (103.57060241699219, 'PARS_8JMkKBDDVF'),\n",
       " (103.81398010253906, 'PARS_FunHpNLVbh'),\n",
       " (104.183349609375, 'PARS_uielsulkKT'),\n",
       " (104.20366668701172, 'PARS_WXsHreeOKM'),\n",
       " (104.27090454101562, 'PARS_hfcaF3NDdz'),\n",
       " (104.33000183105469, 'PARS_CzlEo3YlHB'),\n",
       " (104.37380981445312, 'PARS_9FN1gZnbi3'),\n",
       " (104.42184448242188, 'PARS_y1jf5FqZWS'),\n",
       " (104.7803726196289, 'PARS_X5dEesrbSo'),\n",
       " (104.88602447509766, 'PARS_LD2QXilUbK'),\n",
       " (104.91861724853516, 'PARS_xTiQ8HJlCL'),\n",
       " (105.19194030761719, 'PARS_J2bPv7VExV'),\n",
       " (105.46473693847656, 'PARS_O3wkawGVxG'),\n",
       " (105.88789367675781, 'PARS_SGYzH81Ivl'),\n",
       " (106.01607513427734, 'PARS_r8BJ9w2KAP'),\n",
       " (106.41865539550781, 'PARS_LuxQD9T6Ts'),\n",
       " (106.83708190917969, 'PARS_dp4J9k7u5h'),\n",
       " (108.24134826660156, 'PARS_VSu1Ihxbcv'),\n",
       " (109.61439514160156, 'PARS_Olw9v7q6Gl'),\n",
       " (109.67953491210938, 'PARS_IAA4T4jv5c'),\n",
       " (110.29998779296875, 'PARS_RXeDIx7FOL'),\n",
       " (110.47158813476562, 'PARS_46tQYvQapL'),\n",
       " (110.5206298828125, 'PARS_YNotERuYgO'),\n",
       " (110.63287353515625, 'PARS_S5a1ZIRHww'),\n",
       " (111.01687622070312, 'PARS_Fzp2uM8knd'),\n",
       " (111.27717590332031, 'PARS_ruc0ojdNlX'),\n",
       " (111.47491455078125, 'PARS_PaAnqywHag'),\n",
       " (112.61419677734375, 'PARS_hl6BnHQOuw'),\n",
       " (112.90376281738281, 'PARS_U1bdvXH58D'),\n",
       " (114.84841918945312, 'PARS_bEpJzknCai')]"
      ]
     },
     "execution_count": 46,
     "metadata": {},
     "output_type": "execute_result"
    }
   ],
   "source": [
    "sorted(colbert_answer[list(colbert_answer.keys())[0]], key=lambda x:x[0])"
   ]
  },
  {
   "cell_type": "code",
   "execution_count": 61,
   "id": "dd25020a",
   "metadata": {},
   "outputs": [
    {
     "name": "stdout",
     "output_type": "stream",
     "text": [
      "0.9524409258975747\n"
     ]
    }
   ],
   "source": [
    "mrr = 0\n",
    "for colans in list(colbert_answer.keys()):\n",
    "    try:\n",
    "        indices = [id_ for value, id_ in sorted(colbert_answer[colans], key=lambda x:x[0], reverse=True)].index(test_labels[colans])\n",
    "        mrr += 1 / (indices + 1)\n",
    "    except:\n",
    "        pass\n",
    "\n",
    "print(mrr / len(colbert_answer))"
   ]
  },
  {
   "cell_type": "code",
   "execution_count": null,
   "id": "2ad933c5",
   "metadata": {},
   "outputs": [],
   "source": []
  }
 ],
 "metadata": {
  "kernelspec": {
   "display_name": "Python 3 (ipykernel)",
   "language": "python",
   "name": "python3"
  },
  "language_info": {
   "codemirror_mode": {
    "name": "ipython",
    "version": 3
   },
   "file_extension": ".py",
   "mimetype": "text/x-python",
   "name": "python",
   "nbconvert_exporter": "python",
   "pygments_lexer": "ipython3",
   "version": "3.8.0"
  }
 },
 "nbformat": 4,
 "nbformat_minor": 5
}
